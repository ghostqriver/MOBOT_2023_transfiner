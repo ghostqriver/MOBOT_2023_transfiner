{
 "cells": [
  {
   "cell_type": "code",
   "execution_count": 20,
   "id": "ce24e7e4",
   "metadata": {},
   "outputs": [],
   "source": [
    "import transfiner_tools as tools"
   ]
  },
  {
   "cell_type": "code",
   "execution_count": 21,
   "id": "8285b90f",
   "metadata": {},
   "outputs": [
    {
     "name": "stdout",
     "output_type": "stream",
     "text": [
      "fpn input shapes: {'res2': ShapeSpec(channels=256, height=None, width=None, stride=4), 'res3': ShapeSpec(channels=512, height=None, width=None, stride=8), 'res4': ShapeSpec(channels=1024, height=None, width=None, stride=16), 'res5': ShapeSpec(channels=2048, height=None, width=None, stride=32)}\n"
     ]
    }
   ],
   "source": [
    "model = tools.build_model_()"
   ]
  },
  {
   "cell_type": "code",
   "execution_count": 25,
   "id": "fc6d0512",
   "metadata": {
    "scrolled": true
   },
   "outputs": [
    {
     "data": {
      "text/plain": [
       "<generator object Module.parameters at 0x7fe712b32650>"
      ]
     },
     "execution_count": 25,
     "metadata": {},
     "output_type": "execute_result"
    }
   ],
   "source": [
    "model.parameters()"
   ]
  },
  {
   "cell_type": "code",
   "execution_count": null,
   "id": "fb7ea638",
   "metadata": {},
   "outputs": [],
   "source": [
    "import tools.train"
   ]
  },
  {
   "cell_type": "code",
   "execution_count": 2,
   "id": "7009a6a9",
   "metadata": {},
   "outputs": [],
   "source": [
    "output_dir='asda'"
   ]
  }
 ],
 "metadata": {
  "kernelspec": {
   "display_name": "transfiner",
   "language": "python",
   "name": "transfiner"
  },
  "language_info": {
   "codemirror_mode": {
    "name": "ipython",
    "version": 3
   },
   "file_extension": ".py",
   "mimetype": "text/x-python",
   "name": "python",
   "nbconvert_exporter": "python",
   "pygments_lexer": "ipython3",
   "version": "3.7.12"
  }
 },
 "nbformat": 4,
 "nbformat_minor": 5
}

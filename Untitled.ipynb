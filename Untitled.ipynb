{
 "cells": [
  {
   "cell_type": "code",
   "execution_count": 2,
   "id": "7009a6a9",
   "metadata": {},
   "outputs": [
    {
     "name": "stdout",
     "output_type": "stream",
     "text": [
      "Command Line Args: Namespace(config_file='', dist_url='tcp://127.0.0.1:49803', eval_only=False, machine_rank=0, num_gpus=1, num_machines=1, opts=[], resume=False)\r\n"
     ]
    }
   ],
   "source": [
    "!python tools/scipt_test.py"
   ]
  }
 ],
 "metadata": {
  "kernelspec": {
   "display_name": "transfiner",
   "language": "python",
   "name": "transfiner"
  },
  "language_info": {
   "codemirror_mode": {
    "name": "ipython",
    "version": 3
   },
   "file_extension": ".py",
   "mimetype": "text/x-python",
   "name": "python",
   "nbconvert_exporter": "python",
   "pygments_lexer": "ipython3",
   "version": "3.7.12"
  }
 },
 "nbformat": 4,
 "nbformat_minor": 5
}

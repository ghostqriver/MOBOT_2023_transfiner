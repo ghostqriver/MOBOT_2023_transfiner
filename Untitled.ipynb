{
 "cells": [
  {
   "cell_type": "code",
   "execution_count": 1,
   "id": "5be1eb9f",
   "metadata": {},
   "outputs": [
    {
     "name": "stdout",
     "output_type": "stream",
     "text": [
      "\u001b[32m[02/08 09:03:14 detectron2]: \u001b[0mArguments: Namespace(confidence_threshold=0.5, config_file='configs/transfiner/mask_rcnn_R_50_FPN_3x.yaml', input=['demo/sample_imgs/*.jpg'], opts=['MODEL.WEIGHTS', './pretrained_model/output_3x_transfiner_r50.pth'], output='vis_coco_r50_sample/', video_input=None, webcam=False)\n",
      "fpn input shapes: {'res2': ShapeSpec(channels=256, height=None, width=None, stride=4), 'res3': ShapeSpec(channels=512, height=None, width=None, stride=8), 'res4': ShapeSpec(channels=1024, height=None, width=None, stride=16), 'res5': ShapeSpec(channels=2048, height=None, width=None, stride=32)}\n",
      "\u001b[32m[02/08 09:03:17 fvcore.common.checkpoint]: \u001b[0m[Checkpointer] Loading from ./pretrained_model/output_3x_transfiner_r50.pth ...\n",
      "  0%|                                                    | 0/22 [00:00<?, ?it/s]/home/yizhi/transfiner/detectron2/modeling/roi_heads/fast_rcnn.py:154: UserWarning: This overload of nonzero is deprecated:\n",
      "\tnonzero()\n",
      "Consider using one of the following signatures instead:\n",
      "\tnonzero(*, bool as_tuple) (Triggered internally at  /opt/conda/conda-bld/pytorch_1607370156314/work/torch/csrc/utils/python_arg_parser.cpp:882.)\n",
      "  filter_inds = filter_mask.nonzero()\n",
      "/home/yizhi/anaconda3/envs/transfiner/lib/python3.7/site-packages/torch/nn/functional.py:3063: UserWarning: Default upsampling behavior when mode=bilinear is changed to align_corners=False since 0.4.0. Please specify align_corners=True if the old behavior is desired. See the documentation of nn.Upsample for details.\n",
      "  \"See the documentation of nn.Upsample for details.\".format(mode))\n",
      "\u001b[32m[02/08 09:03:23 detectron2]: \u001b[0mdemo/sample_imgs/000000008844.jpg: detected 3 instances in 3.78s\n",
      "  5%|██                                          | 1/22 [00:03<01:22,  3.94s/it]\u001b[32m[02/08 09:03:23 detectron2]: \u001b[0mdemo/sample_imgs/000000018737.jpg: detected 2 instances in 0.19s\n",
      "  9%|████                                        | 2/22 [00:04<00:35,  1.80s/it]\u001b[32m[02/08 09:03:24 detectron2]: \u001b[0mdemo/sample_imgs/000000126137.jpg: detected 13 instances in 0.41s\n",
      " 14%|██████                                      | 3/22 [00:05<00:25,  1.33s/it]\u001b[32m[02/08 09:03:24 detectron2]: \u001b[0mdemo/sample_imgs/000000131444.jpg: detected 2 instances in 0.17s\n",
      " 18%|████████                                    | 4/22 [00:05<00:16,  1.08it/s]\u001b[32m[02/08 09:03:25 detectron2]: \u001b[0mdemo/sample_imgs/000000132408.jpg: detected 7 instances in 0.38s\n",
      " 23%|██████████                                  | 5/22 [00:05<00:13,  1.24it/s]\u001b[32m[02/08 09:03:25 detectron2]: \u001b[0mdemo/sample_imgs/000000157365.jpg: detected 7 instances in 0.29s\n",
      " 27%|████████████                                | 6/22 [00:06<00:11,  1.41it/s]\u001b[32m[02/08 09:03:26 detectron2]: \u001b[0mdemo/sample_imgs/000000176037.jpg: detected 15 instances in 0.60s\n",
      " 32%|██████████████                              | 7/22 [00:07<00:12,  1.21it/s]\u001b[32m[02/08 09:03:27 detectron2]: \u001b[0mdemo/sample_imgs/000000224200.jpg: detected 2 instances in 0.18s\n",
      " 36%|████████████████                            | 8/22 [00:07<00:09,  1.51it/s]\u001b[32m[02/08 09:03:27 detectron2]: \u001b[0mdemo/sample_imgs/000000244019.jpg: detected 1 instances in 0.14s\n",
      " 41%|██████████████████                          | 9/22 [00:08<00:06,  1.92it/s]\u001b[32m[02/08 09:03:27 detectron2]: \u001b[0mdemo/sample_imgs/000000252776.jpg: detected 4 instances in 0.22s\n",
      " 45%|███████████████████▌                       | 10/22 [00:08<00:05,  2.11it/s]\u001b[32m[02/08 09:03:28 detectron2]: \u001b[0mdemo/sample_imgs/000000286849.jpg: detected 4 instances in 0.20s\n",
      " 50%|█████████████████████▌                     | 11/22 [00:08<00:04,  2.38it/s]\u001b[32m[02/08 09:03:28 detectron2]: \u001b[0mdemo/sample_imgs/000000292997.jpg: detected 15 instances in 0.70s\n",
      " 55%|███████████████████████▍                   | 12/22 [00:09<00:06,  1.52it/s]\u001b[32m[02/08 09:03:29 detectron2]: \u001b[0mdemo/sample_imgs/000000321214.jpg: detected 4 instances in 0.22s\n",
      " 59%|█████████████████████████▍                 | 13/22 [00:10<00:05,  1.74it/s]\u001b[32m[02/08 09:03:30 detectron2]: \u001b[0mdemo/sample_imgs/000000344909.jpg: detected 5 instances in 0.24s\n",
      " 64%|███████████████████████████▎               | 14/22 [00:10<00:04,  1.88it/s]\u001b[32m[02/08 09:03:30 detectron2]: \u001b[0mdemo/sample_imgs/000000360661.jpg: detected 7 instances in 0.35s\n",
      " 68%|█████████████████████████████▎             | 15/22 [00:11<00:03,  1.81it/s]\u001b[32m[02/08 09:03:31 detectron2]: \u001b[0mdemo/sample_imgs/000000396903.jpg: detected 2 instances in 0.20s\n",
      " 73%|███████████████████████████████▎           | 16/22 [00:11<00:02,  2.10it/s]\u001b[32m[02/08 09:03:31 detectron2]: \u001b[0mdemo/sample_imgs/000000404922.jpg: detected 5 instances in 0.25s\n",
      " 77%|█████████████████████████████████▏         | 17/22 [00:11<00:02,  2.26it/s]\u001b[32m[02/08 09:03:31 detectron2]: \u001b[0mdemo/sample_imgs/000000442836.jpg: detected 4 instances in 0.25s\n",
      " 82%|███████████████████████████████████▏       | 18/22 [00:12<00:01,  2.30it/s]\u001b[32m[02/08 09:03:32 detectron2]: \u001b[0mdemo/sample_imgs/000000464144.jpg: detected 2 instances in 0.18s\n",
      " 86%|█████████████████████████████████████▏     | 19/22 [00:12<00:01,  2.60it/s]\u001b[32m[02/08 09:03:32 detectron2]: \u001b[0mdemo/sample_imgs/000000482477.jpg: detected 1 instances in 0.14s\n",
      " 91%|███████████████████████████████████████    | 20/22 [00:12<00:00,  2.99it/s]\u001b[32m[02/08 09:03:32 detectron2]: \u001b[0mdemo/sample_imgs/000000495054.jpg: detected 11 instances in 0.55s\n",
      " 95%|█████████████████████████████████████████  | 21/22 [00:13<00:00,  1.98it/s]\u001b[32m[02/08 09:03:33 detectron2]: \u001b[0mdemo/sample_imgs/000000558073.jpg: detected 1 instances in 0.14s\n",
      "100%|███████████████████████████████████████████| 22/22 [00:13<00:00,  1.57it/s]\n"
     ]
    }
   ],
   "source": [
    "# On transfiner pretrained model R50\n",
    "\n",
    "!python demo/demo.py --config-file configs/transfiner/mask_rcnn_R_50_FPN_3x.yaml \\\n",
    "  --input 'demo/sample_imgs/*.jpg' \\\n",
    "  --output 'vis_coco_r50_sample/' \\\n",
    "  --opts MODEL.WEIGHTS ./pretrained_model/output_3x_transfiner_r50.pth"
   ]
  },
  {
   "cell_type": "code",
   "execution_count": 2,
   "id": "b0dd42e4",
   "metadata": {},
   "outputs": [
    {
     "ename": "NameError",
     "evalue": "name 'cfg' is not defined",
     "output_type": "error",
     "traceback": [
      "\u001b[0;31m---------------------------------------------------------------------------\u001b[0m",
      "\u001b[0;31mNameError\u001b[0m                                 Traceback (most recent call last)",
      "\u001b[0;32m/tmp/ipykernel_214441/3086055565.py\u001b[0m in \u001b[0;36m<module>\u001b[0;34m\u001b[0m\n\u001b[1;32m      1\u001b[0m \u001b[0;32mimport\u001b[0m \u001b[0mtransfiner_tools\u001b[0m\u001b[0;34m\u001b[0m\u001b[0;34m\u001b[0m\u001b[0m\n\u001b[1;32m      2\u001b[0m \u001b[0;34m\u001b[0m\u001b[0m\n\u001b[0;32m----> 3\u001b[0;31m \u001b[0mtransfiner_tools\u001b[0m\u001b[0;34m.\u001b[0m\u001b[0mbuild_model_\u001b[0m\u001b[0;34m(\u001b[0m\u001b[0mcfg\u001b[0m\u001b[0;34m)\u001b[0m\u001b[0;34m\u001b[0m\u001b[0;34m\u001b[0m\u001b[0m\n\u001b[0m",
      "\u001b[0;31mNameError\u001b[0m: name 'cfg' is not defined"
     ]
    }
   ],
   "source": [
    "import transfiner_tools\n",
    "\n",
    "transfiner_tools.build_model_()"
   ]
  },
  {
   "cell_type": "code",
   "execution_count": null,
   "id": "9f22b36c",
   "metadata": {},
   "outputs": [],
   "source": []
  }
 ],
 "metadata": {
  "kernelspec": {
   "display_name": "transfiner",
   "language": "python",
   "name": "transfiner"
  },
  "language_info": {
   "codemirror_mode": {
    "name": "ipython",
    "version": 3
   },
   "file_extension": ".py",
   "mimetype": "text/x-python",
   "name": "python",
   "nbconvert_exporter": "python",
   "pygments_lexer": "ipython3",
   "version": "3.7.12"
  }
 },
 "nbformat": 4,
 "nbformat_minor": 5
}
